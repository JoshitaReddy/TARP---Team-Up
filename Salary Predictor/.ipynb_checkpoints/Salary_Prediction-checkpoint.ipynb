{
 "cells": [
  {
   "cell_type": "code",
   "execution_count": null,
   "id": "1bc2a821",
   "metadata": {},
   "outputs": [],
   "source": [
    "import numpy as np\n",
    "import pandas as pd "
   ]
  },
  {
   "cell_type": "code",
   "execution_count": null,
   "id": "6e1db8b3",
   "metadata": {},
   "outputs": [],
   "source": [
    "df = pd.read_csv('Engineering_graduate_salary.csv')\n",
    "df.head()"
   ]
  },
  {
   "cell_type": "code",
   "execution_count": null,
   "id": "a0b99c2a",
   "metadata": {},
   "outputs": [],
   "source": [
    "df.drop(['ID','DOB','CollegeID','12graduation','10board',\n",
    "        '12board','CollegeState','CollegeCityID','CollegeCityTier',\n",
    "        'GraduationYear'], axis=1, inplace=True)\n",
    "\n",
    "df = df.drop_duplicates()"
   ]
  },
  {
   "cell_type": "code",
   "execution_count": null,
   "id": "88c32807",
   "metadata": {},
   "outputs": [],
   "source": [
    "df.info()"
   ]
  },
  {
   "cell_type": "code",
   "execution_count": null,
   "id": "0cf3fd19",
   "metadata": {},
   "outputs": [],
   "source": [
    "df.drop(df.iloc[:, 7:23], axis=1, inplace=True)\n",
    "df.info()"
   ]
  },
  {
   "cell_type": "code",
   "execution_count": null,
   "id": "cfca6a4e",
   "metadata": {
    "scrolled": true
   },
   "outputs": [],
   "source": [
    "df.describe()"
   ]
  },
  {
   "cell_type": "code",
   "execution_count": null,
   "id": "94f9bb09",
   "metadata": {},
   "outputs": [],
   "source": [
    "df.Degree.value_counts()"
   ]
  },
  {
   "cell_type": "code",
   "execution_count": null,
   "id": "71d58d5e",
   "metadata": {},
   "outputs": [],
   "source": [
    "specialization = df.Specialization.value_counts(ascending=False)\n",
    "specialization"
   ]
  },
  {
   "cell_type": "code",
   "execution_count": null,
   "id": "552bc421",
   "metadata": {},
   "outputs": [],
   "source": [
    "specializationlessthan10 = specialization[specialization<=10]\n",
    "\n",
    "def removespecialessthan10(value):\n",
    "    if value in specializationlessthan10:\n",
    "        return 'other'\n",
    "    else:\n",
    "        return value\n",
    "    \n",
    "df.Specialization = df.Specialization.apply(removespecialessthan10)\n",
    "\n",
    "df.Specialization.value_counts()"
   ]
  },
  {
   "cell_type": "code",
   "execution_count": null,
   "id": "23fd0bb0",
   "metadata": {},
   "outputs": [],
   "source": [
    "df = df[(df['collegeGPA']>40)]"
   ]
  },
  {
   "cell_type": "code",
   "execution_count": null,
   "id": "0c798e71",
   "metadata": {},
   "outputs": [],
   "source": [
    "#TAKING CARE OF NULL AND VALUES WHICH HAVE -1\n",
    "df = df.replace(-1, np.nan)\n",
    "cols_with_nan = [column for column in df.columns if df.isna().sum()[column] > 0]\n",
    "\n",
    "for column in cols_with_nan:\n",
    "    df[column] = df[column].fillna(df[column].mean())"
   ]
  },
  {
   "cell_type": "code",
   "execution_count": null,
   "id": "a08e1274",
   "metadata": {},
   "outputs": [],
   "source": [
    "#df.drop(['10percentage'], axis=1, inplace=True) #Both are linearly correlated, so we can remove any one of these"
   ]
  },
  {
   "cell_type": "code",
   "execution_count": null,
   "id": "d133503d",
   "metadata": {},
   "outputs": [],
   "source": [
    "#DATA PREPROCESSING FOR MODEL TRAINING\n",
    "from sklearn.preprocessing import LabelEncoder\n",
    "\n",
    "le = LabelEncoder()\n",
    "\n",
    "df.Gender = le.fit_transform(df.Gender)\n",
    "df.Degree = le.fit_transform(df.Degree)\n",
    "df.Specialization = le.fit_transform(df.Specialization)\n",
    "\n",
    "df.head()"
   ]
  },
  {
   "cell_type": "code",
   "execution_count": null,
   "id": "716ae6cc",
   "metadata": {},
   "outputs": [],
   "source": [
    "from sklearn.model_selection import train_test_split\n",
    "from sklearn.preprocessing import StandardScaler\n",
    "from xgboost import XGBRegressor"
   ]
  },
  {
   "cell_type": "code",
   "execution_count": null,
   "id": "6b68d52c",
   "metadata": {},
   "outputs": [],
   "source": [
    "X = df.drop('Salary', axis=1)\n",
    "y = df['Salary']\n",
    "\n",
    "sc = StandardScaler()\n",
    "X = sc.fit_transform(X)\n",
    "\n",
    "X_train, X_test, y_train, y_test = train_test_split(X, y, test_size=0.2, shuffle=True,random_state=0)"
   ]
  },
  {
   "cell_type": "code",
   "execution_count": null,
   "id": "36680c1b",
   "metadata": {},
   "outputs": [],
   "source": [
    "xgb = XGBRegressor()\n",
    "\n",
    "xgb.fit(X_train, y_train)"
   ]
  },
  {
   "cell_type": "code",
   "execution_count": null,
   "id": "4d483e36",
   "metadata": {},
   "outputs": [],
   "source": [
    "predictions = xgb.predict(X_test)"
   ]
  },
  {
   "cell_type": "code",
   "execution_count": null,
   "id": "47455949",
   "metadata": {},
   "outputs": [],
   "source": [
    "## checking R2 score\n",
    "\n",
    "xgb_r2_score = xgb.score(X_test, y_test)\n",
    "print(\"XGBoost R2 Score: \", (xgb_r2_score))"
   ]
  },
  {
   "cell_type": "code",
   "execution_count": null,
   "id": "81c22491",
   "metadata": {},
   "outputs": [],
   "source": [
    "import pickle"
   ]
  },
  {
   "cell_type": "code",
   "execution_count": null,
   "id": "7e3ffa99",
   "metadata": {},
   "outputs": [],
   "source": [
    "#SAVING THE TRAINED MODEL\n",
    "filename = 'xgbmodel.sav'\n",
    "pickle.dump(xgb, open(filename, 'wb'))"
   ]
  },
  {
   "cell_type": "code",
   "execution_count": null,
   "id": "03457372",
   "metadata": {},
   "outputs": [],
   "source": [
    "#LOADING THE MODEL\n",
    "loaded_model = pickle.load(open(filename, 'rb'))\n",
    "score = loaded_model.score(X_test, y_test)\n",
    "score"
   ]
  },
  {
   "cell_type": "code",
   "execution_count": null,
   "id": "615f3198",
   "metadata": {},
   "outputs": [],
   "source": [
    "df.head()"
   ]
  },
  {
   "cell_type": "code",
   "execution_count": null,
   "id": "0bb1755c",
   "metadata": {},
   "outputs": [],
   "source": [
    "#TESTING WITH NEW OUTPUTS\n",
    "\n",
    "new_input = [[0,0,0,0,0,0,0]]\n",
    "result = loaded_model.predict(new_input)\n",
    "result"
   ]
  },
  {
   "cell_type": "code",
   "execution_count": null,
   "id": "15ce95ab",
   "metadata": {},
   "outputs": [],
   "source": []
  }
 ],
 "metadata": {
  "kernelspec": {
   "display_name": "Python 3 (ipykernel)",
   "language": "python",
   "name": "python3"
  },
  "language_info": {
   "codemirror_mode": {
    "name": "ipython",
    "version": 3
   },
   "file_extension": ".py",
   "mimetype": "text/x-python",
   "name": "python",
   "nbconvert_exporter": "python",
   "pygments_lexer": "ipython3",
   "version": "3.9.7"
  }
 },
 "nbformat": 4,
 "nbformat_minor": 5
}
