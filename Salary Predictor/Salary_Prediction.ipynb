{
 "cells": [
  {
   "cell_type": "code",
   "execution_count": 1,
   "id": "1bc2a821",
   "metadata": {},
   "outputs": [],
   "source": [
    "import numpy as np\n",
    "import pandas as pd "
   ]
  },
  {
   "cell_type": "code",
   "execution_count": 2,
   "id": "6e1db8b3",
   "metadata": {},
   "outputs": [
    {
     "data": {
      "text/html": [
       "<div>\n",
       "<style scoped>\n",
       "    .dataframe tbody tr th:only-of-type {\n",
       "        vertical-align: middle;\n",
       "    }\n",
       "\n",
       "    .dataframe tbody tr th {\n",
       "        vertical-align: top;\n",
       "    }\n",
       "\n",
       "    .dataframe thead th {\n",
       "        text-align: right;\n",
       "    }\n",
       "</style>\n",
       "<table border=\"1\" class=\"dataframe\">\n",
       "  <thead>\n",
       "    <tr style=\"text-align: right;\">\n",
       "      <th></th>\n",
       "      <th>ID</th>\n",
       "      <th>Gender</th>\n",
       "      <th>DOB</th>\n",
       "      <th>10percentage</th>\n",
       "      <th>10board</th>\n",
       "      <th>12graduation</th>\n",
       "      <th>12percentage</th>\n",
       "      <th>12board</th>\n",
       "      <th>CollegeID</th>\n",
       "      <th>CollegeTier</th>\n",
       "      <th>...</th>\n",
       "      <th>MechanicalEngg</th>\n",
       "      <th>ElectricalEngg</th>\n",
       "      <th>TelecomEngg</th>\n",
       "      <th>CivilEngg</th>\n",
       "      <th>conscientiousness</th>\n",
       "      <th>agreeableness</th>\n",
       "      <th>extraversion</th>\n",
       "      <th>nueroticism</th>\n",
       "      <th>openess_to_experience</th>\n",
       "      <th>Salary</th>\n",
       "    </tr>\n",
       "  </thead>\n",
       "  <tbody>\n",
       "    <tr>\n",
       "      <th>0</th>\n",
       "      <td>604399</td>\n",
       "      <td>f</td>\n",
       "      <td>1990-10-22</td>\n",
       "      <td>87.80</td>\n",
       "      <td>cbse</td>\n",
       "      <td>2009</td>\n",
       "      <td>84.00</td>\n",
       "      <td>cbse</td>\n",
       "      <td>6920</td>\n",
       "      <td>1</td>\n",
       "      <td>...</td>\n",
       "      <td>-1</td>\n",
       "      <td>-1</td>\n",
       "      <td>-1</td>\n",
       "      <td>-1</td>\n",
       "      <td>-0.1590</td>\n",
       "      <td>0.3789</td>\n",
       "      <td>1.2396</td>\n",
       "      <td>0.14590</td>\n",
       "      <td>0.2889</td>\n",
       "      <td>445000</td>\n",
       "    </tr>\n",
       "    <tr>\n",
       "      <th>1</th>\n",
       "      <td>988334</td>\n",
       "      <td>m</td>\n",
       "      <td>1990-05-15</td>\n",
       "      <td>57.00</td>\n",
       "      <td>cbse</td>\n",
       "      <td>2010</td>\n",
       "      <td>64.50</td>\n",
       "      <td>cbse</td>\n",
       "      <td>6624</td>\n",
       "      <td>2</td>\n",
       "      <td>...</td>\n",
       "      <td>-1</td>\n",
       "      <td>-1</td>\n",
       "      <td>-1</td>\n",
       "      <td>-1</td>\n",
       "      <td>1.1336</td>\n",
       "      <td>0.0459</td>\n",
       "      <td>1.2396</td>\n",
       "      <td>0.52620</td>\n",
       "      <td>-0.2859</td>\n",
       "      <td>110000</td>\n",
       "    </tr>\n",
       "    <tr>\n",
       "      <th>2</th>\n",
       "      <td>301647</td>\n",
       "      <td>m</td>\n",
       "      <td>1989-08-21</td>\n",
       "      <td>77.33</td>\n",
       "      <td>maharashtra state board,pune</td>\n",
       "      <td>2007</td>\n",
       "      <td>85.17</td>\n",
       "      <td>amravati divisional board</td>\n",
       "      <td>9084</td>\n",
       "      <td>2</td>\n",
       "      <td>...</td>\n",
       "      <td>-1</td>\n",
       "      <td>-1</td>\n",
       "      <td>260</td>\n",
       "      <td>-1</td>\n",
       "      <td>0.5100</td>\n",
       "      <td>-0.1232</td>\n",
       "      <td>1.5428</td>\n",
       "      <td>-0.29020</td>\n",
       "      <td>-0.2875</td>\n",
       "      <td>255000</td>\n",
       "    </tr>\n",
       "    <tr>\n",
       "      <th>3</th>\n",
       "      <td>582313</td>\n",
       "      <td>m</td>\n",
       "      <td>1991-05-04</td>\n",
       "      <td>84.30</td>\n",
       "      <td>cbse</td>\n",
       "      <td>2009</td>\n",
       "      <td>86.00</td>\n",
       "      <td>cbse</td>\n",
       "      <td>8195</td>\n",
       "      <td>1</td>\n",
       "      <td>...</td>\n",
       "      <td>-1</td>\n",
       "      <td>-1</td>\n",
       "      <td>-1</td>\n",
       "      <td>-1</td>\n",
       "      <td>-0.4463</td>\n",
       "      <td>0.2124</td>\n",
       "      <td>0.3174</td>\n",
       "      <td>0.27270</td>\n",
       "      <td>0.4805</td>\n",
       "      <td>420000</td>\n",
       "    </tr>\n",
       "    <tr>\n",
       "      <th>4</th>\n",
       "      <td>339001</td>\n",
       "      <td>f</td>\n",
       "      <td>1990-10-30</td>\n",
       "      <td>82.00</td>\n",
       "      <td>cbse</td>\n",
       "      <td>2008</td>\n",
       "      <td>75.00</td>\n",
       "      <td>cbse</td>\n",
       "      <td>4889</td>\n",
       "      <td>2</td>\n",
       "      <td>...</td>\n",
       "      <td>-1</td>\n",
       "      <td>-1</td>\n",
       "      <td>-1</td>\n",
       "      <td>-1</td>\n",
       "      <td>-1.4992</td>\n",
       "      <td>-0.7473</td>\n",
       "      <td>-1.0697</td>\n",
       "      <td>0.06223</td>\n",
       "      <td>0.1864</td>\n",
       "      <td>200000</td>\n",
       "    </tr>\n",
       "  </tbody>\n",
       "</table>\n",
       "<p>5 rows × 34 columns</p>\n",
       "</div>"
      ],
      "text/plain": [
       "       ID Gender         DOB  10percentage                       10board  \\\n",
       "0  604399      f  1990-10-22         87.80                          cbse   \n",
       "1  988334      m  1990-05-15         57.00                          cbse   \n",
       "2  301647      m  1989-08-21         77.33  maharashtra state board,pune   \n",
       "3  582313      m  1991-05-04         84.30                          cbse   \n",
       "4  339001      f  1990-10-30         82.00                          cbse   \n",
       "\n",
       "   12graduation  12percentage                    12board  CollegeID  \\\n",
       "0          2009         84.00                       cbse       6920   \n",
       "1          2010         64.50                       cbse       6624   \n",
       "2          2007         85.17  amravati divisional board       9084   \n",
       "3          2009         86.00                       cbse       8195   \n",
       "4          2008         75.00                       cbse       4889   \n",
       "\n",
       "   CollegeTier  ... MechanicalEngg ElectricalEngg  TelecomEngg  CivilEngg  \\\n",
       "0            1  ...             -1             -1           -1         -1   \n",
       "1            2  ...             -1             -1           -1         -1   \n",
       "2            2  ...             -1             -1          260         -1   \n",
       "3            1  ...             -1             -1           -1         -1   \n",
       "4            2  ...             -1             -1           -1         -1   \n",
       "\n",
       "   conscientiousness agreeableness  extraversion  nueroticism  \\\n",
       "0            -0.1590        0.3789        1.2396      0.14590   \n",
       "1             1.1336        0.0459        1.2396      0.52620   \n",
       "2             0.5100       -0.1232        1.5428     -0.29020   \n",
       "3            -0.4463        0.2124        0.3174      0.27270   \n",
       "4            -1.4992       -0.7473       -1.0697      0.06223   \n",
       "\n",
       "   openess_to_experience  Salary  \n",
       "0                 0.2889  445000  \n",
       "1                -0.2859  110000  \n",
       "2                -0.2875  255000  \n",
       "3                 0.4805  420000  \n",
       "4                 0.1864  200000  \n",
       "\n",
       "[5 rows x 34 columns]"
      ]
     },
     "execution_count": 2,
     "metadata": {},
     "output_type": "execute_result"
    }
   ],
   "source": [
    "df = pd.read_csv('Engineering_graduate_salary.csv')\n",
    "df.head()"
   ]
  },
  {
   "cell_type": "code",
   "execution_count": 3,
   "id": "a0b99c2a",
   "metadata": {},
   "outputs": [],
   "source": [
    "df.drop(['ID','DOB','CollegeID','12graduation','10board',\n",
    "        '12board','CollegeState','CollegeCityID','CollegeCityTier',\n",
    "        'GraduationYear'], axis=1, inplace=True)\n",
    "\n",
    "df = df.drop_duplicates()"
   ]
  },
  {
   "cell_type": "code",
   "execution_count": 4,
   "id": "88c32807",
   "metadata": {},
   "outputs": [
    {
     "name": "stdout",
     "output_type": "stream",
     "text": [
      "<class 'pandas.core.frame.DataFrame'>\n",
      "Int64Index: 2998 entries, 0 to 2997\n",
      "Data columns (total 24 columns):\n",
      " #   Column                 Non-Null Count  Dtype  \n",
      "---  ------                 --------------  -----  \n",
      " 0   Gender                 2998 non-null   object \n",
      " 1   10percentage           2998 non-null   float64\n",
      " 2   12percentage           2998 non-null   float64\n",
      " 3   CollegeTier            2998 non-null   int64  \n",
      " 4   Degree                 2998 non-null   object \n",
      " 5   Specialization         2998 non-null   object \n",
      " 6   collegeGPA             2998 non-null   float64\n",
      " 7   English                2998 non-null   int64  \n",
      " 8   Logical                2998 non-null   int64  \n",
      " 9   Quant                  2998 non-null   int64  \n",
      " 10  Domain                 2998 non-null   float64\n",
      " 11  ComputerProgramming    2998 non-null   int64  \n",
      " 12  ElectronicsAndSemicon  2998 non-null   int64  \n",
      " 13  ComputerScience        2998 non-null   int64  \n",
      " 14  MechanicalEngg         2998 non-null   int64  \n",
      " 15  ElectricalEngg         2998 non-null   int64  \n",
      " 16  TelecomEngg            2998 non-null   int64  \n",
      " 17  CivilEngg              2998 non-null   int64  \n",
      " 18  conscientiousness      2998 non-null   float64\n",
      " 19  agreeableness          2998 non-null   float64\n",
      " 20  extraversion           2998 non-null   float64\n",
      " 21  nueroticism            2998 non-null   float64\n",
      " 22  openess_to_experience  2998 non-null   float64\n",
      " 23  Salary                 2998 non-null   int64  \n",
      "dtypes: float64(9), int64(12), object(3)\n",
      "memory usage: 585.5+ KB\n"
     ]
    }
   ],
   "source": [
    "df.info()"
   ]
  },
  {
   "cell_type": "code",
   "execution_count": 5,
   "id": "0cf3fd19",
   "metadata": {},
   "outputs": [
    {
     "name": "stdout",
     "output_type": "stream",
     "text": [
      "<class 'pandas.core.frame.DataFrame'>\n",
      "Int64Index: 2998 entries, 0 to 2997\n",
      "Data columns (total 8 columns):\n",
      " #   Column          Non-Null Count  Dtype  \n",
      "---  ------          --------------  -----  \n",
      " 0   Gender          2998 non-null   object \n",
      " 1   10percentage    2998 non-null   float64\n",
      " 2   12percentage    2998 non-null   float64\n",
      " 3   CollegeTier     2998 non-null   int64  \n",
      " 4   Degree          2998 non-null   object \n",
      " 5   Specialization  2998 non-null   object \n",
      " 6   collegeGPA      2998 non-null   float64\n",
      " 7   Salary          2998 non-null   int64  \n",
      "dtypes: float64(3), int64(2), object(3)\n",
      "memory usage: 210.8+ KB\n"
     ]
    }
   ],
   "source": [
    "df.drop(df.iloc[:, 7:23], axis=1, inplace=True)\n",
    "df.info()"
   ]
  },
  {
   "cell_type": "code",
   "execution_count": 6,
   "id": "cfca6a4e",
   "metadata": {
    "scrolled": true
   },
   "outputs": [
    {
     "data": {
      "text/html": [
       "<div>\n",
       "<style scoped>\n",
       "    .dataframe tbody tr th:only-of-type {\n",
       "        vertical-align: middle;\n",
       "    }\n",
       "\n",
       "    .dataframe tbody tr th {\n",
       "        vertical-align: top;\n",
       "    }\n",
       "\n",
       "    .dataframe thead th {\n",
       "        text-align: right;\n",
       "    }\n",
       "</style>\n",
       "<table border=\"1\" class=\"dataframe\">\n",
       "  <thead>\n",
       "    <tr style=\"text-align: right;\">\n",
       "      <th></th>\n",
       "      <th>10percentage</th>\n",
       "      <th>12percentage</th>\n",
       "      <th>CollegeTier</th>\n",
       "      <th>collegeGPA</th>\n",
       "      <th>Salary</th>\n",
       "    </tr>\n",
       "  </thead>\n",
       "  <tbody>\n",
       "    <tr>\n",
       "      <th>count</th>\n",
       "      <td>2998.000000</td>\n",
       "      <td>2998.000000</td>\n",
       "      <td>2998.000000</td>\n",
       "      <td>2998.000000</td>\n",
       "      <td>2.998000e+03</td>\n",
       "    </tr>\n",
       "    <tr>\n",
       "      <th>mean</th>\n",
       "      <td>77.666264</td>\n",
       "      <td>74.341061</td>\n",
       "      <td>1.924616</td>\n",
       "      <td>71.509857</td>\n",
       "      <td>3.051748e+05</td>\n",
       "    </tr>\n",
       "    <tr>\n",
       "      <th>std</th>\n",
       "      <td>10.002785</td>\n",
       "      <td>11.120299</td>\n",
       "      <td>0.264053</td>\n",
       "      <td>8.122462</td>\n",
       "      <td>2.123312e+05</td>\n",
       "    </tr>\n",
       "    <tr>\n",
       "      <th>min</th>\n",
       "      <td>43.000000</td>\n",
       "      <td>40.000000</td>\n",
       "      <td>1.000000</td>\n",
       "      <td>6.630000</td>\n",
       "      <td>3.500000e+04</td>\n",
       "    </tr>\n",
       "    <tr>\n",
       "      <th>25%</th>\n",
       "      <td>71.140000</td>\n",
       "      <td>66.000000</td>\n",
       "      <td>2.000000</td>\n",
       "      <td>66.530000</td>\n",
       "      <td>1.800000e+05</td>\n",
       "    </tr>\n",
       "    <tr>\n",
       "      <th>50%</th>\n",
       "      <td>78.965000</td>\n",
       "      <td>74.000000</td>\n",
       "      <td>2.000000</td>\n",
       "      <td>71.800000</td>\n",
       "      <td>3.000000e+05</td>\n",
       "    </tr>\n",
       "    <tr>\n",
       "      <th>75%</th>\n",
       "      <td>85.600000</td>\n",
       "      <td>82.600000</td>\n",
       "      <td>2.000000</td>\n",
       "      <td>76.300000</td>\n",
       "      <td>3.700000e+05</td>\n",
       "    </tr>\n",
       "    <tr>\n",
       "      <th>max</th>\n",
       "      <td>97.760000</td>\n",
       "      <td>98.700000</td>\n",
       "      <td>2.000000</td>\n",
       "      <td>99.930000</td>\n",
       "      <td>4.000000e+06</td>\n",
       "    </tr>\n",
       "  </tbody>\n",
       "</table>\n",
       "</div>"
      ],
      "text/plain": [
       "       10percentage  12percentage  CollegeTier   collegeGPA        Salary\n",
       "count   2998.000000   2998.000000  2998.000000  2998.000000  2.998000e+03\n",
       "mean      77.666264     74.341061     1.924616    71.509857  3.051748e+05\n",
       "std       10.002785     11.120299     0.264053     8.122462  2.123312e+05\n",
       "min       43.000000     40.000000     1.000000     6.630000  3.500000e+04\n",
       "25%       71.140000     66.000000     2.000000    66.530000  1.800000e+05\n",
       "50%       78.965000     74.000000     2.000000    71.800000  3.000000e+05\n",
       "75%       85.600000     82.600000     2.000000    76.300000  3.700000e+05\n",
       "max       97.760000     98.700000     2.000000    99.930000  4.000000e+06"
      ]
     },
     "execution_count": 6,
     "metadata": {},
     "output_type": "execute_result"
    }
   ],
   "source": [
    "df.describe()"
   ]
  },
  {
   "cell_type": "code",
   "execution_count": 7,
   "id": "94f9bb09",
   "metadata": {},
   "outputs": [
    {
     "data": {
      "text/plain": [
       "B.Tech/B.E.      2757\n",
       "MCA               200\n",
       "M.Tech./M.E.       40\n",
       "M.Sc. (Tech.)       1\n",
       "Name: Degree, dtype: int64"
      ]
     },
     "execution_count": 7,
     "metadata": {},
     "output_type": "execute_result"
    }
   ],
   "source": [
    "df.Degree.value_counts()"
   ]
  },
  {
   "cell_type": "code",
   "execution_count": 8,
   "id": "71d58d5e",
   "metadata": {},
   "outputs": [
    {
     "data": {
      "text/plain": [
       "electronics and communication engineering      670\n",
       "computer science & engineering                 557\n",
       "information technology                         506\n",
       "computer engineering                           415\n",
       "computer application                           201\n",
       "mechanical engineering                         155\n",
       "electronics and electrical engineering         148\n",
       "electronics & telecommunications                89\n",
       "electrical engineering                          63\n",
       "electronics & instrumentation eng               24\n",
       "instrumentation and control engineering         18\n",
       "information science engineering                 18\n",
       "electronics and instrumentation engineering     18\n",
       "civil engineering                               15\n",
       "electronics engineering                         13\n",
       "biotechnology                                   12\n",
       "other                                           10\n",
       "industrial & production engineering              8\n",
       "chemical engineering                             7\n",
       "applied electronics and instrumentation          5\n",
       "mechanical and automation                        5\n",
       "telecommunication engineering                    4\n",
       "automobile/automotive engineering                4\n",
       "computer science and technology                  4\n",
       "aeronautical engineering                         3\n",
       "instrumentation engineering                      3\n",
       "electronics and computer engineering             3\n",
       "mechatronics                                     3\n",
       "metallurgical engineering                        2\n",
       "industrial engineering                           2\n",
       "biomedical engineering                           2\n",
       "information & communication technology           1\n",
       "electronics                                      1\n",
       "embedded systems technology                      1\n",
       "industrial & management engineering              1\n",
       "electrical and power engineering                 1\n",
       "computer and communication engineering           1\n",
       "mechanical & production engineering              1\n",
       "control and instrumentation engineering          1\n",
       "ceramic engineering                              1\n",
       "computer networking                              1\n",
       "information science                              1\n",
       "Name: Specialization, dtype: int64"
      ]
     },
     "execution_count": 8,
     "metadata": {},
     "output_type": "execute_result"
    }
   ],
   "source": [
    "specialization = df.Specialization.value_counts(ascending=False)\n",
    "specialization"
   ]
  },
  {
   "cell_type": "code",
   "execution_count": 9,
   "id": "552bc421",
   "metadata": {},
   "outputs": [
    {
     "data": {
      "text/plain": [
       "electronics and communication engineering      670\n",
       "computer science & engineering                 557\n",
       "information technology                         506\n",
       "computer engineering                           415\n",
       "computer application                           201\n",
       "mechanical engineering                         155\n",
       "electronics and electrical engineering         148\n",
       "electronics & telecommunications                89\n",
       "other                                           76\n",
       "electrical engineering                          63\n",
       "electronics & instrumentation eng               24\n",
       "electronics and instrumentation engineering     18\n",
       "instrumentation and control engineering         18\n",
       "information science engineering                 18\n",
       "civil engineering                               15\n",
       "electronics engineering                         13\n",
       "biotechnology                                   12\n",
       "Name: Specialization, dtype: int64"
      ]
     },
     "execution_count": 9,
     "metadata": {},
     "output_type": "execute_result"
    }
   ],
   "source": [
    "specializationlessthan10 = specialization[specialization<=10]\n",
    "\n",
    "def removespecialessthan10(value):\n",
    "    if value in specializationlessthan10:\n",
    "        return 'other'\n",
    "    else:\n",
    "        return value\n",
    "    \n",
    "df.Specialization = df.Specialization.apply(removespecialessthan10)\n",
    "\n",
    "df.Specialization.value_counts()"
   ]
  },
  {
   "cell_type": "code",
   "execution_count": 10,
   "id": "23fd0bb0",
   "metadata": {},
   "outputs": [],
   "source": [
    "df = df[(df['collegeGPA']>40)]"
   ]
  },
  {
   "cell_type": "code",
   "execution_count": 11,
   "id": "0c798e71",
   "metadata": {},
   "outputs": [],
   "source": [
    "#TAKING CARE OF NULL AND VALUES WHICH HAVE -1\n",
    "df = df.replace(-1, np.nan)\n",
    "cols_with_nan = [column for column in df.columns if df.isna().sum()[column] > 0]\n",
    "\n",
    "for column in cols_with_nan:\n",
    "    df[column] = df[column].fillna(df[column].mean())"
   ]
  },
  {
   "cell_type": "code",
   "execution_count": 12,
   "id": "a08e1274",
   "metadata": {},
   "outputs": [],
   "source": [
    "#df.drop(['10percentage'], axis=1, inplace=True) #Both are linearly correlated, so we can remove any one of these"
   ]
  },
  {
   "cell_type": "code",
   "execution_count": 13,
   "id": "d133503d",
   "metadata": {},
   "outputs": [
    {
     "data": {
      "text/html": [
       "<div>\n",
       "<style scoped>\n",
       "    .dataframe tbody tr th:only-of-type {\n",
       "        vertical-align: middle;\n",
       "    }\n",
       "\n",
       "    .dataframe tbody tr th {\n",
       "        vertical-align: top;\n",
       "    }\n",
       "\n",
       "    .dataframe thead th {\n",
       "        text-align: right;\n",
       "    }\n",
       "</style>\n",
       "<table border=\"1\" class=\"dataframe\">\n",
       "  <thead>\n",
       "    <tr style=\"text-align: right;\">\n",
       "      <th></th>\n",
       "      <th>Gender</th>\n",
       "      <th>10percentage</th>\n",
       "      <th>12percentage</th>\n",
       "      <th>CollegeTier</th>\n",
       "      <th>Degree</th>\n",
       "      <th>Specialization</th>\n",
       "      <th>collegeGPA</th>\n",
       "      <th>Salary</th>\n",
       "    </tr>\n",
       "  </thead>\n",
       "  <tbody>\n",
       "    <tr>\n",
       "      <th>0</th>\n",
       "      <td>0</td>\n",
       "      <td>87.80</td>\n",
       "      <td>84.00</td>\n",
       "      <td>1</td>\n",
       "      <td>0</td>\n",
       "      <td>14</td>\n",
       "      <td>73.82</td>\n",
       "      <td>445000</td>\n",
       "    </tr>\n",
       "    <tr>\n",
       "      <th>1</th>\n",
       "      <td>1</td>\n",
       "      <td>57.00</td>\n",
       "      <td>64.50</td>\n",
       "      <td>2</td>\n",
       "      <td>0</td>\n",
       "      <td>4</td>\n",
       "      <td>65.00</td>\n",
       "      <td>110000</td>\n",
       "    </tr>\n",
       "    <tr>\n",
       "      <th>2</th>\n",
       "      <td>1</td>\n",
       "      <td>77.33</td>\n",
       "      <td>85.17</td>\n",
       "      <td>2</td>\n",
       "      <td>0</td>\n",
       "      <td>7</td>\n",
       "      <td>61.94</td>\n",
       "      <td>255000</td>\n",
       "    </tr>\n",
       "    <tr>\n",
       "      <th>3</th>\n",
       "      <td>1</td>\n",
       "      <td>84.30</td>\n",
       "      <td>86.00</td>\n",
       "      <td>1</td>\n",
       "      <td>0</td>\n",
       "      <td>4</td>\n",
       "      <td>80.40</td>\n",
       "      <td>420000</td>\n",
       "    </tr>\n",
       "    <tr>\n",
       "      <th>4</th>\n",
       "      <td>0</td>\n",
       "      <td>82.00</td>\n",
       "      <td>75.00</td>\n",
       "      <td>2</td>\n",
       "      <td>0</td>\n",
       "      <td>0</td>\n",
       "      <td>64.30</td>\n",
       "      <td>200000</td>\n",
       "    </tr>\n",
       "  </tbody>\n",
       "</table>\n",
       "</div>"
      ],
      "text/plain": [
       "   Gender  10percentage  12percentage  CollegeTier  Degree  Specialization  \\\n",
       "0       0         87.80         84.00            1       0              14   \n",
       "1       1         57.00         64.50            2       0               4   \n",
       "2       1         77.33         85.17            2       0               7   \n",
       "3       1         84.30         86.00            1       0               4   \n",
       "4       0         82.00         75.00            2       0               0   \n",
       "\n",
       "   collegeGPA  Salary  \n",
       "0       73.82  445000  \n",
       "1       65.00  110000  \n",
       "2       61.94  255000  \n",
       "3       80.40  420000  \n",
       "4       64.30  200000  "
      ]
     },
     "execution_count": 13,
     "metadata": {},
     "output_type": "execute_result"
    }
   ],
   "source": [
    "#DATA PREPROCESSING FOR MODEL TRAINING\n",
    "from sklearn.preprocessing import LabelEncoder\n",
    "\n",
    "le = LabelEncoder()\n",
    "\n",
    "df.Gender = le.fit_transform(df.Gender)\n",
    "df.Degree = le.fit_transform(df.Degree)\n",
    "df.Specialization = le.fit_transform(df.Specialization)\n",
    "\n",
    "df.head()"
   ]
  },
  {
   "cell_type": "code",
   "execution_count": 14,
   "id": "716ae6cc",
   "metadata": {},
   "outputs": [],
   "source": [
    "from sklearn.model_selection import train_test_split\n",
    "from sklearn.preprocessing import StandardScaler\n",
    "from xgboost import XGBRegressor"
   ]
  },
  {
   "cell_type": "code",
   "execution_count": 15,
   "id": "6b68d52c",
   "metadata": {},
   "outputs": [],
   "source": [
    "X = df.drop('Salary', axis=1)\n",
    "y = df['Salary']\n",
    "\n",
    "sc = StandardScaler()\n",
    "X = sc.fit_transform(X)\n",
    "\n",
    "X_train, X_test, y_train, y_test = train_test_split(X, y, test_size=0.2, shuffle=True,random_state=0)"
   ]
  },
  {
   "cell_type": "code",
   "execution_count": 16,
   "id": "36680c1b",
   "metadata": {},
   "outputs": [
    {
     "data": {
      "text/plain": [
       "XGBRegressor(base_score=None, booster=None, callbacks=None,\n",
       "             colsample_bylevel=None, colsample_bynode=None,\n",
       "             colsample_bytree=None, early_stopping_rounds=None,\n",
       "             enable_categorical=False, eval_metric=None, feature_types=None,\n",
       "             gamma=None, gpu_id=None, grow_policy=None, importance_type=None,\n",
       "             interaction_constraints=None, learning_rate=None, max_bin=None,\n",
       "             max_cat_threshold=None, max_cat_to_onehot=None,\n",
       "             max_delta_step=None, max_depth=None, max_leaves=None,\n",
       "             min_child_weight=None, missing=nan, monotone_constraints=None,\n",
       "             n_estimators=100, n_jobs=None, num_parallel_tree=None,\n",
       "             predictor=None, random_state=None, ...)"
      ]
     },
     "execution_count": 16,
     "metadata": {},
     "output_type": "execute_result"
    }
   ],
   "source": [
    "xgb = XGBRegressor()\n",
    "\n",
    "xgb.fit(X_train, y_train)"
   ]
  },
  {
   "cell_type": "code",
   "execution_count": 17,
   "id": "4d483e36",
   "metadata": {},
   "outputs": [],
   "source": [
    "predictions = xgb.predict(X_test)"
   ]
  },
  {
   "cell_type": "code",
   "execution_count": 18,
   "id": "47455949",
   "metadata": {},
   "outputs": [
    {
     "name": "stdout",
     "output_type": "stream",
     "text": [
      "XGBoost R2 Score:  -0.28970774074773087\n"
     ]
    }
   ],
   "source": [
    "## checking R2 score\n",
    "\n",
    "xgb_r2_score = xgb.score(X_test, y_test)\n",
    "print(\"XGBoost R2 Score: \", (xgb_r2_score))"
   ]
  },
  {
   "cell_type": "code",
   "execution_count": 19,
   "id": "81c22491",
   "metadata": {},
   "outputs": [],
   "source": [
    "import pickle"
   ]
  },
  {
   "cell_type": "code",
   "execution_count": 20,
   "id": "7e3ffa99",
   "metadata": {},
   "outputs": [],
   "source": [
    "#SAVING THE TRAINED MODEL\n",
    "filename = 'xgbmodel.pkl'\n",
    "pickle.dump(xgb, open(filename, 'wb'))"
   ]
  },
  {
   "cell_type": "code",
   "execution_count": 21,
   "id": "03457372",
   "metadata": {},
   "outputs": [
    {
     "data": {
      "text/plain": [
       "-0.28970774074773087"
      ]
     },
     "execution_count": 21,
     "metadata": {},
     "output_type": "execute_result"
    }
   ],
   "source": [
    "#LOADING THE MODEL\n",
    "loaded_model = pickle.load(open(filename, 'rb'))\n",
    "score = loaded_model.score(X_test, y_test)\n",
    "score"
   ]
  },
  {
   "cell_type": "code",
   "execution_count": null,
   "id": "615f3198",
   "metadata": {},
   "outputs": [],
   "source": [
    "df.head()"
   ]
  },
  {
   "cell_type": "code",
   "execution_count": 22,
   "id": "0bb1755c",
   "metadata": {},
   "outputs": [
    {
     "data": {
      "text/plain": [
       "array([300749.28], dtype=float32)"
      ]
     },
     "execution_count": 22,
     "metadata": {},
     "output_type": "execute_result"
    }
   ],
   "source": [
    "#TESTING WITH NEW OUTPUTS\n",
    "\n",
    "new_input = [[0,0,0,0,0,0,0]]\n",
    "result = loaded_model.predict(new_input)\n",
    "result"
   ]
  },
  {
   "cell_type": "code",
   "execution_count": null,
   "id": "15ce95ab",
   "metadata": {},
   "outputs": [],
   "source": []
  }
 ],
 "metadata": {
  "kernelspec": {
   "display_name": "Python 3 (ipykernel)",
   "language": "python",
   "name": "python3"
  },
  "language_info": {
   "codemirror_mode": {
    "name": "ipython",
    "version": 3
   },
   "file_extension": ".py",
   "mimetype": "text/x-python",
   "name": "python",
   "nbconvert_exporter": "python",
   "pygments_lexer": "ipython3",
   "version": "3.9.7"
  }
 },
 "nbformat": 4,
 "nbformat_minor": 5
}
