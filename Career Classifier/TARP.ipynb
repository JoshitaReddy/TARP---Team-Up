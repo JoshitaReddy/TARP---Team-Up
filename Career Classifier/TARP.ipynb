{
  "nbformat": 4,
  "nbformat_minor": 0,
  "metadata": {
    "colab": {
      "provenance": [],
      "authorship_tag": "ABX9TyMQWGpafvgRAc6uhi07zaB1"
    },
    "kernelspec": {
      "name": "python3",
      "display_name": "Python 3"
    },
    "language_info": {
      "name": "python"
    }
  },
  "cells": [
    {
      "cell_type": "markdown",
      "source": [
        "Importing the Libraries"
      ],
      "metadata": {
        "id": "K1m1Lzretht2"
      }
    },
    {
      "cell_type": "code",
      "source": [
        "## Importing the libraries\n",
        "\n",
        "import numpy as np\n",
        "import matplotlib.pyplot as plt\n",
        "import pandas as pd\n",
        "import pickle"
      ],
      "metadata": {
        "id": "cRQzMdfiuQRv"
      },
      "execution_count": null,
      "outputs": []
    },
    {
      "cell_type": "markdown",
      "source": [
        "Importing the Dataset "
      ],
      "metadata": {
        "id": "s11gMYT3tnUd"
      }
    },
    {
      "cell_type": "code",
      "source": [
        "## Importing the dataset\n",
        "\n",
        "dataset = pd.read_csv('career_pred.csv')\n",
        "dataset = dataset.dropna()\n",
        "X = dataset.iloc[:, :-1].values #Assiging all columns of dataset (Except last column) as X\n",
        "y = dataset.iloc[:, -1].values  #Assigning Last Column of Data as y\n",
        "dataset.head()"
      ],
      "metadata": {
        "colab": {
          "base_uri": "https://localhost:8080/",
          "height": 386
        },
        "id": "djRbuhzHuaYU",
        "outputId": "f1c397f8-8529-4696-d916-eb4b00222faa"
      },
      "execution_count": null,
      "outputs": [
        {
          "output_type": "execute_result",
          "data": {
            "text/plain": [
              "   sslc  hsc  cgpa  school_type  no_of_miniprojects  no_of_projects  \\\n",
              "0   2.0  3.0   2.0          3.0                 1.0             1.0   \n",
              "1   3.0  1.0   2.0          2.0                 2.0             1.0   \n",
              "2   3.0  4.0   2.0          2.0                 1.0             1.0   \n",
              "3   3.0  4.0   2.0          1.0                 1.0             1.0   \n",
              "4   2.0  3.0   2.0          4.0                 1.0             1.0   \n",
              "\n",
              "   coresub_skill  aptitude_skill  problemsolving_skill  programming_skill  \\\n",
              "0            1.0             1.0                   2.0                4.0   \n",
              "1            1.0             3.0                   2.0                4.0   \n",
              "2            1.0             2.0                   3.0                3.0   \n",
              "3            1.0             1.0                   3.0                2.0   \n",
              "4            1.0             4.0                   3.0                3.0   \n",
              "\n",
              "   ...  technology_used  sympos_attend  sympos_won  extracurricular  \\\n",
              "0  ...                1              3           1                2   \n",
              "1  ...                2              3           2                3   \n",
              "2  ...                1              4           3                1   \n",
              "3  ...                1              3           2                1   \n",
              "4  ...                1              2           1                3   \n",
              "\n",
              "   learning_style  college_bench  clg_teachers_know  college_performence   \\\n",
              "0               2              4                  3                     4   \n",
              "1               2              5                  3                     3   \n",
              "2               4              3                  3                     3   \n",
              "3               2              1                  4                     4   \n",
              "4               1              5                  4                     3   \n",
              "\n",
              "   college_skills                ROLE  \n",
              "0               5   Technical Support  \n",
              "1               4  Software Developer  \n",
              "2               4      UI/UX Designer  \n",
              "3               3   Technical Support  \n",
              "4               1        Data Analyst  \n",
              "\n",
              "[5 rows x 26 columns]"
            ],
            "text/html": [
              "\n",
              "  <div id=\"df-5a2786d7-0e9f-4e19-a630-474577268449\">\n",
              "    <div class=\"colab-df-container\">\n",
              "      <div>\n",
              "<style scoped>\n",
              "    .dataframe tbody tr th:only-of-type {\n",
              "        vertical-align: middle;\n",
              "    }\n",
              "\n",
              "    .dataframe tbody tr th {\n",
              "        vertical-align: top;\n",
              "    }\n",
              "\n",
              "    .dataframe thead th {\n",
              "        text-align: right;\n",
              "    }\n",
              "</style>\n",
              "<table border=\"1\" class=\"dataframe\">\n",
              "  <thead>\n",
              "    <tr style=\"text-align: right;\">\n",
              "      <th></th>\n",
              "      <th>sslc</th>\n",
              "      <th>hsc</th>\n",
              "      <th>cgpa</th>\n",
              "      <th>school_type</th>\n",
              "      <th>no_of_miniprojects</th>\n",
              "      <th>no_of_projects</th>\n",
              "      <th>coresub_skill</th>\n",
              "      <th>aptitude_skill</th>\n",
              "      <th>problemsolving_skill</th>\n",
              "      <th>programming_skill</th>\n",
              "      <th>...</th>\n",
              "      <th>technology_used</th>\n",
              "      <th>sympos_attend</th>\n",
              "      <th>sympos_won</th>\n",
              "      <th>extracurricular</th>\n",
              "      <th>learning_style</th>\n",
              "      <th>college_bench</th>\n",
              "      <th>clg_teachers_know</th>\n",
              "      <th>college_performence</th>\n",
              "      <th>college_skills</th>\n",
              "      <th>ROLE</th>\n",
              "    </tr>\n",
              "  </thead>\n",
              "  <tbody>\n",
              "    <tr>\n",
              "      <th>0</th>\n",
              "      <td>2.0</td>\n",
              "      <td>3.0</td>\n",
              "      <td>2.0</td>\n",
              "      <td>3.0</td>\n",
              "      <td>1.0</td>\n",
              "      <td>1.0</td>\n",
              "      <td>1.0</td>\n",
              "      <td>1.0</td>\n",
              "      <td>2.0</td>\n",
              "      <td>4.0</td>\n",
              "      <td>...</td>\n",
              "      <td>1</td>\n",
              "      <td>3</td>\n",
              "      <td>1</td>\n",
              "      <td>2</td>\n",
              "      <td>2</td>\n",
              "      <td>4</td>\n",
              "      <td>3</td>\n",
              "      <td>4</td>\n",
              "      <td>5</td>\n",
              "      <td>Technical Support</td>\n",
              "    </tr>\n",
              "    <tr>\n",
              "      <th>1</th>\n",
              "      <td>3.0</td>\n",
              "      <td>1.0</td>\n",
              "      <td>2.0</td>\n",
              "      <td>2.0</td>\n",
              "      <td>2.0</td>\n",
              "      <td>1.0</td>\n",
              "      <td>1.0</td>\n",
              "      <td>3.0</td>\n",
              "      <td>2.0</td>\n",
              "      <td>4.0</td>\n",
              "      <td>...</td>\n",
              "      <td>2</td>\n",
              "      <td>3</td>\n",
              "      <td>2</td>\n",
              "      <td>3</td>\n",
              "      <td>2</td>\n",
              "      <td>5</td>\n",
              "      <td>3</td>\n",
              "      <td>3</td>\n",
              "      <td>4</td>\n",
              "      <td>Software Developer</td>\n",
              "    </tr>\n",
              "    <tr>\n",
              "      <th>2</th>\n",
              "      <td>3.0</td>\n",
              "      <td>4.0</td>\n",
              "      <td>2.0</td>\n",
              "      <td>2.0</td>\n",
              "      <td>1.0</td>\n",
              "      <td>1.0</td>\n",
              "      <td>1.0</td>\n",
              "      <td>2.0</td>\n",
              "      <td>3.0</td>\n",
              "      <td>3.0</td>\n",
              "      <td>...</td>\n",
              "      <td>1</td>\n",
              "      <td>4</td>\n",
              "      <td>3</td>\n",
              "      <td>1</td>\n",
              "      <td>4</td>\n",
              "      <td>3</td>\n",
              "      <td>3</td>\n",
              "      <td>3</td>\n",
              "      <td>4</td>\n",
              "      <td>UI/UX Designer</td>\n",
              "    </tr>\n",
              "    <tr>\n",
              "      <th>3</th>\n",
              "      <td>3.0</td>\n",
              "      <td>4.0</td>\n",
              "      <td>2.0</td>\n",
              "      <td>1.0</td>\n",
              "      <td>1.0</td>\n",
              "      <td>1.0</td>\n",
              "      <td>1.0</td>\n",
              "      <td>1.0</td>\n",
              "      <td>3.0</td>\n",
              "      <td>2.0</td>\n",
              "      <td>...</td>\n",
              "      <td>1</td>\n",
              "      <td>3</td>\n",
              "      <td>2</td>\n",
              "      <td>1</td>\n",
              "      <td>2</td>\n",
              "      <td>1</td>\n",
              "      <td>4</td>\n",
              "      <td>4</td>\n",
              "      <td>3</td>\n",
              "      <td>Technical Support</td>\n",
              "    </tr>\n",
              "    <tr>\n",
              "      <th>4</th>\n",
              "      <td>2.0</td>\n",
              "      <td>3.0</td>\n",
              "      <td>2.0</td>\n",
              "      <td>4.0</td>\n",
              "      <td>1.0</td>\n",
              "      <td>1.0</td>\n",
              "      <td>1.0</td>\n",
              "      <td>4.0</td>\n",
              "      <td>3.0</td>\n",
              "      <td>3.0</td>\n",
              "      <td>...</td>\n",
              "      <td>1</td>\n",
              "      <td>2</td>\n",
              "      <td>1</td>\n",
              "      <td>3</td>\n",
              "      <td>1</td>\n",
              "      <td>5</td>\n",
              "      <td>4</td>\n",
              "      <td>3</td>\n",
              "      <td>1</td>\n",
              "      <td>Data Analyst</td>\n",
              "    </tr>\n",
              "  </tbody>\n",
              "</table>\n",
              "<p>5 rows × 26 columns</p>\n",
              "</div>\n",
              "      <button class=\"colab-df-convert\" onclick=\"convertToInteractive('df-5a2786d7-0e9f-4e19-a630-474577268449')\"\n",
              "              title=\"Convert this dataframe to an interactive table.\"\n",
              "              style=\"display:none;\">\n",
              "        \n",
              "  <svg xmlns=\"http://www.w3.org/2000/svg\" height=\"24px\"viewBox=\"0 0 24 24\"\n",
              "       width=\"24px\">\n",
              "    <path d=\"M0 0h24v24H0V0z\" fill=\"none\"/>\n",
              "    <path d=\"M18.56 5.44l.94 2.06.94-2.06 2.06-.94-2.06-.94-.94-2.06-.94 2.06-2.06.94zm-11 1L8.5 8.5l.94-2.06 2.06-.94-2.06-.94L8.5 2.5l-.94 2.06-2.06.94zm10 10l.94 2.06.94-2.06 2.06-.94-2.06-.94-.94-2.06-.94 2.06-2.06.94z\"/><path d=\"M17.41 7.96l-1.37-1.37c-.4-.4-.92-.59-1.43-.59-.52 0-1.04.2-1.43.59L10.3 9.45l-7.72 7.72c-.78.78-.78 2.05 0 2.83L4 21.41c.39.39.9.59 1.41.59.51 0 1.02-.2 1.41-.59l7.78-7.78 2.81-2.81c.8-.78.8-2.07 0-2.86zM5.41 20L4 18.59l7.72-7.72 1.47 1.35L5.41 20z\"/>\n",
              "  </svg>\n",
              "      </button>\n",
              "      \n",
              "  <style>\n",
              "    .colab-df-container {\n",
              "      display:flex;\n",
              "      flex-wrap:wrap;\n",
              "      gap: 12px;\n",
              "    }\n",
              "\n",
              "    .colab-df-convert {\n",
              "      background-color: #E8F0FE;\n",
              "      border: none;\n",
              "      border-radius: 50%;\n",
              "      cursor: pointer;\n",
              "      display: none;\n",
              "      fill: #1967D2;\n",
              "      height: 32px;\n",
              "      padding: 0 0 0 0;\n",
              "      width: 32px;\n",
              "    }\n",
              "\n",
              "    .colab-df-convert:hover {\n",
              "      background-color: #E2EBFA;\n",
              "      box-shadow: 0px 1px 2px rgba(60, 64, 67, 0.3), 0px 1px 3px 1px rgba(60, 64, 67, 0.15);\n",
              "      fill: #174EA6;\n",
              "    }\n",
              "\n",
              "    [theme=dark] .colab-df-convert {\n",
              "      background-color: #3B4455;\n",
              "      fill: #D2E3FC;\n",
              "    }\n",
              "\n",
              "    [theme=dark] .colab-df-convert:hover {\n",
              "      background-color: #434B5C;\n",
              "      box-shadow: 0px 1px 3px 1px rgba(0, 0, 0, 0.15);\n",
              "      filter: drop-shadow(0px 1px 2px rgba(0, 0, 0, 0.3));\n",
              "      fill: #FFFFFF;\n",
              "    }\n",
              "  </style>\n",
              "\n",
              "      <script>\n",
              "        const buttonEl =\n",
              "          document.querySelector('#df-5a2786d7-0e9f-4e19-a630-474577268449 button.colab-df-convert');\n",
              "        buttonEl.style.display =\n",
              "          google.colab.kernel.accessAllowed ? 'block' : 'none';\n",
              "\n",
              "        async function convertToInteractive(key) {\n",
              "          const element = document.querySelector('#df-5a2786d7-0e9f-4e19-a630-474577268449');\n",
              "          const dataTable =\n",
              "            await google.colab.kernel.invokeFunction('convertToInteractive',\n",
              "                                                     [key], {});\n",
              "          if (!dataTable) return;\n",
              "\n",
              "          const docLinkHtml = 'Like what you see? Visit the ' +\n",
              "            '<a target=\"_blank\" href=https://colab.research.google.com/notebooks/data_table.ipynb>data table notebook</a>'\n",
              "            + ' to learn more about interactive tables.';\n",
              "          element.innerHTML = '';\n",
              "          dataTable['output_type'] = 'display_data';\n",
              "          await google.colab.output.renderOutput(dataTable, element);\n",
              "          const docLink = document.createElement('div');\n",
              "          docLink.innerHTML = docLinkHtml;\n",
              "          element.appendChild(docLink);\n",
              "        }\n",
              "      </script>\n",
              "    </div>\n",
              "  </div>\n",
              "  "
            ]
          },
          "metadata": {},
          "execution_count": 5
        }
      ]
    },
    {
      "cell_type": "code",
      "source": [
        "dataset.info() # To get more information about the columns in the dataset"
      ],
      "metadata": {
        "colab": {
          "base_uri": "https://localhost:8080/"
        },
        "id": "Ti0cbn85v9-7",
        "outputId": "6d3097fc-e4c0-4100-d142-1b10f6761ab4"
      },
      "execution_count": null,
      "outputs": [
        {
          "output_type": "stream",
          "name": "stdout",
          "text": [
            "<class 'pandas.core.frame.DataFrame'>\n",
            "Int64Index: 49 entries, 0 to 48\n",
            "Data columns (total 26 columns):\n",
            " #   Column                Non-Null Count  Dtype  \n",
            "---  ------                --------------  -----  \n",
            " 0   sslc                  49 non-null     float64\n",
            " 1   hsc                   49 non-null     float64\n",
            " 2   cgpa                  49 non-null     float64\n",
            " 3   school_type           49 non-null     float64\n",
            " 4   no_of_miniprojects    49 non-null     float64\n",
            " 5   no_of_projects        49 non-null     float64\n",
            " 6   coresub_skill         49 non-null     float64\n",
            " 7   aptitude_skill        49 non-null     float64\n",
            " 8   problemsolving_skill  49 non-null     float64\n",
            " 9   programming_skill     49 non-null     float64\n",
            " 10  abstractthink_skill   49 non-null     float64\n",
            " 11  design_skill          49 non-null     float64\n",
            " 12  first_computer        49 non-null     int64  \n",
            " 13  first_program         49 non-null     int64  \n",
            " 14  lab_programs          49 non-null     int64  \n",
            " 15  ds_coding             49 non-null     int64  \n",
            " 16  technology_used       49 non-null     int64  \n",
            " 17  sympos_attend         49 non-null     int64  \n",
            " 18  sympos_won            49 non-null     int64  \n",
            " 19  extracurricular       49 non-null     int64  \n",
            " 20  learning_style        49 non-null     int64  \n",
            " 21  college_bench         49 non-null     int64  \n",
            " 22  clg_teachers_know     49 non-null     int64  \n",
            " 23  college_performence   49 non-null     int64  \n",
            " 24  college_skills        49 non-null     int64  \n",
            " 25  ROLE                  49 non-null     object \n",
            "dtypes: float64(12), int64(13), object(1)\n",
            "memory usage: 10.3+ KB\n"
          ]
        }
      ]
    },
    {
      "cell_type": "markdown",
      "source": [
        "Label Encoder\n",
        "\n",
        "\n",
        "*   y (ROLE) has non-numerical values so we need to convert them to numerical values for the machine learning algorithm to process it, hence, we use Label Encoding to complete this process.\n",
        "\n",
        "\n"
      ],
      "metadata": {
        "id": "kDTBts9yuGtE"
      }
    },
    {
      "cell_type": "code",
      "source": [
        "from sklearn import preprocessing\n",
        "label_encoder = preprocessing.LabelEncoder()  # Calling Label Encoder Object\n",
        "y = label_encoder.fit_transform(y)            # Applying the label encoder to y"
      ],
      "metadata": {
        "id": "QSVlAo_n3wQx"
      },
      "execution_count": null,
      "outputs": []
    },
    {
      "cell_type": "markdown",
      "source": [
        "Splitting the Data"
      ],
      "metadata": {
        "id": "tj1mNYiVu_20"
      }
    },
    {
      "cell_type": "code",
      "source": [
        "## Splitting the dataset into the Training set and Test set\n",
        "\n",
        "from sklearn.model_selection import train_test_split\n",
        "X_train, X_test, y_train, y_test = train_test_split(X, y, test_size = 0.25, random_state = 0)  # Ratio of split is 75%-25%"
      ],
      "metadata": {
        "id": "hd6bWMe8usY3"
      },
      "execution_count": null,
      "outputs": []
    },
    {
      "cell_type": "markdown",
      "source": [
        "Feature Scaling\n",
        "\n",
        "\n",
        "*   This helps us normalise the data that is all values will be scaled dowwn to the range 0 & 1 after feature scaling.\n",
        "\n"
      ],
      "metadata": {
        "id": "N1mOpQf1vCiS"
      }
    },
    {
      "cell_type": "code",
      "source": [
        "## Feature Scaling\n",
        "\n",
        "from sklearn.preprocessing import StandardScaler\n",
        "sc = StandardScaler()                 #Calling Standard Scaler Object\n",
        "X_train = sc.fit_transform(X_train)   #Applying the feature scaling to X\n",
        "X_test = sc.transform(X_test)"
      ],
      "metadata": {
        "id": "6qq8kuCJux-J"
      },
      "execution_count": null,
      "outputs": []
    },
    {
      "cell_type": "markdown",
      "source": [
        "SVM Classifier\n",
        "\n",
        "\n",
        "*   SVM works by mapping data to a high-dimensional feature space so that data points can be categorized, even when the data are not otherwise linearly separable. A separator between the categories is found, then the data are transformed in such a way that the separator could be drawn as a hyperplane.\n",
        "\n",
        "\n"
      ],
      "metadata": {
        "id": "uebcA2P0vmPI"
      }
    },
    {
      "cell_type": "code",
      "source": [
        "from sklearn.svm import SVC               \n",
        "classifier = SVC(kernel = 'rbf', random_state = 0) # Calling SVM Object\n",
        "classifier.fit(X_train, y_train)                   # Applying SVM Object to training data"
      ],
      "metadata": {
        "id": "NvHD1Vqh1DQ3",
        "colab": {
          "base_uri": "https://localhost:8080/",
          "height": 75
        },
        "outputId": "971f96f7-b35d-41bb-f0a8-9c35fb0f8c81"
      },
      "execution_count": null,
      "outputs": [
        {
          "output_type": "execute_result",
          "data": {
            "text/plain": [
              "SVC(random_state=0)"
            ],
            "text/html": [
              "<style>#sk-container-id-25 {color: black;background-color: white;}#sk-container-id-25 pre{padding: 0;}#sk-container-id-25 div.sk-toggleable {background-color: white;}#sk-container-id-25 label.sk-toggleable__label {cursor: pointer;display: block;width: 100%;margin-bottom: 0;padding: 0.3em;box-sizing: border-box;text-align: center;}#sk-container-id-25 label.sk-toggleable__label-arrow:before {content: \"▸\";float: left;margin-right: 0.25em;color: #696969;}#sk-container-id-25 label.sk-toggleable__label-arrow:hover:before {color: black;}#sk-container-id-25 div.sk-estimator:hover label.sk-toggleable__label-arrow:before {color: black;}#sk-container-id-25 div.sk-toggleable__content {max-height: 0;max-width: 0;overflow: hidden;text-align: left;background-color: #f0f8ff;}#sk-container-id-25 div.sk-toggleable__content pre {margin: 0.2em;color: black;border-radius: 0.25em;background-color: #f0f8ff;}#sk-container-id-25 input.sk-toggleable__control:checked~div.sk-toggleable__content {max-height: 200px;max-width: 100%;overflow: auto;}#sk-container-id-25 input.sk-toggleable__control:checked~label.sk-toggleable__label-arrow:before {content: \"▾\";}#sk-container-id-25 div.sk-estimator input.sk-toggleable__control:checked~label.sk-toggleable__label {background-color: #d4ebff;}#sk-container-id-25 div.sk-label input.sk-toggleable__control:checked~label.sk-toggleable__label {background-color: #d4ebff;}#sk-container-id-25 input.sk-hidden--visually {border: 0;clip: rect(1px 1px 1px 1px);clip: rect(1px, 1px, 1px, 1px);height: 1px;margin: -1px;overflow: hidden;padding: 0;position: absolute;width: 1px;}#sk-container-id-25 div.sk-estimator {font-family: monospace;background-color: #f0f8ff;border: 1px dotted black;border-radius: 0.25em;box-sizing: border-box;margin-bottom: 0.5em;}#sk-container-id-25 div.sk-estimator:hover {background-color: #d4ebff;}#sk-container-id-25 div.sk-parallel-item::after {content: \"\";width: 100%;border-bottom: 1px solid gray;flex-grow: 1;}#sk-container-id-25 div.sk-label:hover label.sk-toggleable__label {background-color: #d4ebff;}#sk-container-id-25 div.sk-serial::before {content: \"\";position: absolute;border-left: 1px solid gray;box-sizing: border-box;top: 0;bottom: 0;left: 50%;z-index: 0;}#sk-container-id-25 div.sk-serial {display: flex;flex-direction: column;align-items: center;background-color: white;padding-right: 0.2em;padding-left: 0.2em;position: relative;}#sk-container-id-25 div.sk-item {position: relative;z-index: 1;}#sk-container-id-25 div.sk-parallel {display: flex;align-items: stretch;justify-content: center;background-color: white;position: relative;}#sk-container-id-25 div.sk-item::before, #sk-container-id-25 div.sk-parallel-item::before {content: \"\";position: absolute;border-left: 1px solid gray;box-sizing: border-box;top: 0;bottom: 0;left: 50%;z-index: -1;}#sk-container-id-25 div.sk-parallel-item {display: flex;flex-direction: column;z-index: 1;position: relative;background-color: white;}#sk-container-id-25 div.sk-parallel-item:first-child::after {align-self: flex-end;width: 50%;}#sk-container-id-25 div.sk-parallel-item:last-child::after {align-self: flex-start;width: 50%;}#sk-container-id-25 div.sk-parallel-item:only-child::after {width: 0;}#sk-container-id-25 div.sk-dashed-wrapped {border: 1px dashed gray;margin: 0 0.4em 0.5em 0.4em;box-sizing: border-box;padding-bottom: 0.4em;background-color: white;}#sk-container-id-25 div.sk-label label {font-family: monospace;font-weight: bold;display: inline-block;line-height: 1.2em;}#sk-container-id-25 div.sk-label-container {text-align: center;}#sk-container-id-25 div.sk-container {/* jupyter's `normalize.less` sets `[hidden] { display: none; }` but bootstrap.min.css set `[hidden] { display: none !important; }` so we also need the `!important` here to be able to override the default hidden behavior on the sphinx rendered scikit-learn.org. See: https://github.com/scikit-learn/scikit-learn/issues/21755 */display: inline-block !important;position: relative;}#sk-container-id-25 div.sk-text-repr-fallback {display: none;}</style><div id=\"sk-container-id-25\" class=\"sk-top-container\"><div class=\"sk-text-repr-fallback\"><pre>SVC(random_state=0)</pre><b>In a Jupyter environment, please rerun this cell to show the HTML representation or trust the notebook. <br />On GitHub, the HTML representation is unable to render, please try loading this page with nbviewer.org.</b></div><div class=\"sk-container\" hidden><div class=\"sk-item\"><div class=\"sk-estimator sk-toggleable\"><input class=\"sk-toggleable__control sk-hidden--visually\" id=\"sk-estimator-id-25\" type=\"checkbox\" checked><label for=\"sk-estimator-id-25\" class=\"sk-toggleable__label sk-toggleable__label-arrow\">SVC</label><div class=\"sk-toggleable__content\"><pre>SVC(random_state=0)</pre></div></div></div></div></div>"
            ]
          },
          "metadata": {},
          "execution_count": 61
        }
      ]
    },
    {
      "cell_type": "markdown",
      "source": [
        "Evaluating the Test Set results "
      ],
      "metadata": {
        "id": "8cVe_1gTwH5r"
      }
    },
    {
      "cell_type": "code",
      "source": [
        "from sklearn.metrics import accuracy_score   \n",
        "y_pred = classifier.predict(X_test)\n",
        "accuracy_score(y_test, y_pred)"
      ],
      "metadata": {
        "colab": {
          "base_uri": "https://localhost:8080/"
        },
        "id": "IvsoQAEloioz",
        "outputId": "d5dd0781-1b1f-4dfb-dc66-017ff947c933"
      },
      "execution_count": null,
      "outputs": [
        {
          "output_type": "stream",
          "name": "stdout",
          "text": [
            "0.86153846153846156\n"
          ]
        }
      ]
    },
    {
      "cell_type": "markdown",
      "source": [
        "Saving the Model for Future Use"
      ],
      "metadata": {
        "id": "mQa1B39HwOc9"
      }
    },
    {
      "cell_type": "code",
      "source": [
        "\"\"\"## Loading model to compare the results\"\"\"\n",
        "\n",
        "pickle.dump(classifier, open('model.pkl','wb'))\n",
        "model = pickle.load(open('model.pkl','rb'))"
      ],
      "metadata": {
        "id": "Ake9lgZN0TpQ"
      },
      "execution_count": null,
      "outputs": []
    },
    {
      "cell_type": "markdown",
      "source": [
        "Making a Sample Predicition"
      ],
      "metadata": {
        "id": "-TNKlEQlwRow"
      }
    },
    {
      "cell_type": "code",
      "source": [
        "s = np.array([2,3,4,5,1,2,3,4,5,1,2,3,4,5,1,2,3,4,5,1,2,3,4,5,1]).reshape(1,-1)"
      ],
      "metadata": {
        "id": "7TFrvk1Ztohp"
      },
      "execution_count": null,
      "outputs": []
    },
    {
      "cell_type": "code",
      "source": [
        "pred = classifier.predict(s)\n",
        "pred"
      ],
      "metadata": {
        "colab": {
          "base_uri": "https://localhost:8080/"
        },
        "id": "sKUrKEtUuOZc",
        "outputId": "eafe9f69-69a2-493f-9abf-08989bc90387"
      },
      "execution_count": null,
      "outputs": [
        {
          "output_type": "execute_result",
          "data": {
            "text/plain": [
              "array([2])"
            ]
          },
          "metadata": {},
          "execution_count": 78
        }
      ]
    },
    {
      "cell_type": "code",
      "source": [
        "jobs = ['Data Analyst','Software Developer','Software Tester','Technical Support','Technical Writer','UI/UX Designer','Web Developer']\n",
        "jobs[pred[0]]"
      ],
      "metadata": {
        "colab": {
          "base_uri": "https://localhost:8080/",
          "height": 35
        },
        "id": "lyHleBTUuUwu",
        "outputId": "533cedae-6434-4793-f0d7-71bf7e4a0097"
      },
      "execution_count": null,
      "outputs": [
        {
          "output_type": "execute_result",
          "data": {
            "text/plain": [
              "'Software Tester'"
            ],
            "application/vnd.google.colaboratory.intrinsic+json": {
              "type": "string"
            }
          },
          "metadata": {},
          "execution_count": 79
        }
      ]
    }
  ]
}